# %% [markdown]
"""
# Data Ingestion & Preprocessing

Pull OHLC time‐series from multiple APIs, merge, resample, fill gaps, and feature‐engineer.
"""

# %% [code]
import os
import pandas as pd
import requests

API_KEYS = {
    "twelvedata": os.getenv("TWELVEDATA_API_KEY"),
    "alpha_vantage": os.getenv("ALPHAVANTAGE_API_KEY"),
    "binance": None  # Binance uses no key for public endpoints
}

# %% [code]
def fetch_twelvedata(symbol: str, interval: str="1h") -> pd.DataFrame:
    url = "https://api.twelvedata.com/time_series"
    params = {"symbol": symbol, "interval": interval, "apikey": API_KEYS["twelvedata"]}
    resp = requests.get(url, params=params).json()["values"]
    df = pd.DataFrame(resp).astype(float)
    df.index = pd.to_datetime(df["datetime"])
    return df[["open","high","low","close","volume"]]

# %% [code]
def fetch_alpha_vantage(symbol: str, interval: str="60min") -> pd.DataFrame:
    url = "https://www.alphavantage.co/query"
    params = {"function":"TIME_SERIES_INTRADAY","symbol":symbol,"interval":interval,"apikey":API_KEYS["alpha_vantage"]}
    data = requests.get(url, params=params).json()[f"Time Series ({interval})"]
    df = pd.DataFrame.from_dict(data, orient="index").astype(float)
    df.index = pd.to_datetime(df.index)
    df.columns = ["open","high","low","close","volume"]
    return df

# %% [code]
# Example: merge and resample
df1 = fetch_twelvedata("AAPL")
df2 = fetch_alpha_vantage("AAPL")
df = pd.concat([df1, df2]).sort_index().resample("1H").agg({
    "open":"first", "high":"max", "low":"min", "close":"last", "volume":"sum"
}).ffill().bfill()
df["return"] = df["close"].pct_change()
